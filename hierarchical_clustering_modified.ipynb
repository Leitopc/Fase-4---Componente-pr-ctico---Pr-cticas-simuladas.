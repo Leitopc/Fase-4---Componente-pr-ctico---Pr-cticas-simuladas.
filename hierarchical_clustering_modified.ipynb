{
 "cells": [
  {
   "cell_type": "code",
   "execution_count": null,
   "id": "e73018cc",
   "metadata": {},
   "outputs": [],
   "source": [
    "# Librerías necesarias\n",
    "import pandas as pd\n",
    "import numpy as np\n",
    "import seaborn as sns\n",
    "import matplotlib.pyplot as plt\n",
    "from sklearn.cluster import AgglomerativeClustering\n",
    "from sklearn.preprocessing import StandardScaler\n",
    "from sklearn.metrics import silhouette_score, calinski_harabasz_score, davies_bouldin_score\n",
    "from scipy.cluster.hierarchy import cluster_dendrogram, linkage\n",
    "import warnings\n",
    "warnings.filterwarnings('ignore')"
   ]
  },
  {
   "cell_type": "code",
   "execution_count": null,
   "id": "d95f616e",
   "metadata": {},
   "outputs": [],
   "source": [
    "# Importar el conjunto de datos de clientes\n",
    "customer_data = pd.read_csv(r'C:\\Users\\neide\\Desktop\\HDD\\UNIVERSIDAD\\6 SEMESTRE\\1- ANALISIS DE DATOS\\4-ALGORITMOS DE APRENDIZAJE NO SUPERVISADO\\Anexo 5 - Dataset Mall Customer Segmentation\\Mall_Customers.csv')"
   ]
  },
  {
   "cell_type": "code",
   "execution_count": null,
   "id": "0e695b0a",
   "metadata": {},
   "outputs": [],
   "source": [
    "customer_data.head(35)"
   ]
  },
  {
   "cell_type": "code",
   "execution_count": null,
   "id": "7eb0c6e0",
   "metadata": {},
   "outputs": [],
   "source": [
    "customer_data.describe()"
   ]
  },
  {
   "cell_type": "code",
   "execution_count": null,
   "id": "82f395ae",
   "metadata": {},
   "outputs": [],
   "source": [
    "# Inspeccionar los datos cargados\n",
    "print(customer_data.info())  # Información general\n",
    "print(customer_data.describe())  # Resumen estadístico"
   ]
  },
  {
   "cell_type": "code",
   "execution_count": null,
   "id": "4b750644",
   "metadata": {},
   "outputs": [],
   "source": [
    "# Detección visual de valores extremos\n",
    "plt.figure(figsize=(12, 6))\n",
    "for i, col in enumerate(['Age', 'Annual Income (k$)', 'Spending Score (1-100)'], 1):\n",
    "    plt.subplot(1, 3, i)\n",
    "    sns.boxplot(x=customer_data[col], color='blue')\n",
    "    plt.title(f'Valores Atípicos en {col}')\n",
    "plt.tight_layout()\n",
    "plt.show()"
   ]
  },
  {
   "cell_type": "code",
   "execution_count": null,
   "id": "0207c4a1",
   "metadata": {},
   "outputs": [],
   "source": [
    "# Selección de columnas relevantes\n",
    "customer_data = customer_data[['Age', 'Annual Income (k$)', 'Spending Score (1-100)']]\n"
   ]
  },
  {
   "cell_type": "code",
   "execution_count": null,
   "id": "6070630d",
   "metadata": {},
   "outputs": [],
   "source": [
    "# Normalizar las variables seleccionadas\n",
    "data_scaler = StandardScaler()\n",
    "customer_data_scaled = data_scaler.fit_transform(customer_data)\n"
   ]
  },
  {
   "cell_type": "code",
   "execution_count": null,
   "id": "f18a6585",
   "metadata": {},
   "outputs": [],
   "source": [
    "# Visualización jerárquica para determinar agrupaciones óptimas\n",
    "linkage_matrix = linkage(customer_data_scaled, method='ward')\n",
    "plt.figure(figsize=(10, 7))\n",
    "cluster_dendrogram(linkage_matrix, orientation='top', distance_sort='descending', show_leaf_counts=True)\n",
    "plt.title('Dendrograma - Clustering Jerárquico')\n",
    "plt.xlabel('Puntos de datos')\n",
    "plt.ylabel('Distancia Euclidiana')\n",
    "plt.show()"
   ]
  },
  {
   "cell_type": "code",
   "execution_count": null,
   "id": "faca62d1",
   "metadata": {},
   "outputs": [],
   "source": [
    "# Seleccionar el número óptimo de clusters (ajustar según el cluster_dendrograma)\n",
    "num_clusters = 4"
   ]
  },
  {
   "cell_type": "code",
   "execution_count": null,
   "id": "2e6ca961",
   "metadata": {},
   "outputs": [],
   "source": [
    "# Aplicar el modelo de agrupamiento jerárquico\n",
    "cluster_model = AgglomerativeClustering(n_clusters=num_clusters, metric='euclidean', linkage='ward')\n",
    "customer_data['Hierarchical_Cluster'] = cluster_model.fit_predict(customer_data_scaled)"
   ]
  },
  {
   "cell_type": "code",
   "execution_count": null,
   "id": "260c6977",
   "metadata": {},
   "outputs": [],
   "source": [
    "# Calcular métricas de evaluación de agrupación\n",
    "silhouette_cluster_model = silhouette_score(customer_data_scaled, customer_data['Hierarchical_Cluster'])\n",
    "calinski_cluster_model = calinski_harabasz_score(customer_data_scaled, customer_data['Hierarchical_Cluster'])\n",
    "davies_cluster_model = davies_bouldin_score(customer_data_scaled, customer_data['Hierarchical_Cluster'])"
   ]
  },
  {
   "cell_type": "code",
   "execution_count": null,
   "id": "9c56ad16",
   "metadata": {},
   "outputs": [],
   "source": [
    "# Representar gráficamente las agrupaciones\n",
    "plt.figure(figsize=(10, 7))\n",
    "sns.scatterplot(x=customer_data_scaled[:, 1], y=customer_data_scaled[:, 2], hue=customer_data['Hierarchical_Cluster'], palette='viridis', s=60)\n",
    "plt.title('Clustering Jerárquico - Visualización de Clusters')\n",
    "plt.xlabel('Ingresos Anuales (Escalados)')\n",
    "plt.ylabel('Puntaje de Gasto (Escalado)')\n",
    "plt.show()"
   ]
  },
  {
   "cell_type": "code",
   "execution_count": null,
   "id": "979d74a0",
   "metadata": {},
   "outputs": [],
   "source": [
    "# Imprimir los resultados obtenidos\n",
    "print(f\"Silhouette Score: {silhouette_cluster_model:.2f}\")\n",
    "print(f\"Calinski-Harabasz Index: {calinski_cluster_model:.2f}\")\n",
    "print(f\"Davies-Bouldin Index: {davies_cluster_model:.2f}\")"
   ]
  },
  {
   "cell_type": "code",
   "execution_count": null,
   "id": "ba5db5f6",
   "metadata": {},
   "outputs": [],
   "source": []
  }
 ],
 "metadata": {
  "kernelspec": {
   "display_name": "Python 3 (ipykernel)",
   "language": "python",
   "name": "python3"
  },
  "language_info": {
   "codemirror_mode": {
    "name": "ipython",
    "version": 3
   },
   "file_extension": ".py",
   "mimetype": "text/x-python",
   "name": "python",
   "nbconvert_exporter": "python",
   "pygments_lexer": "ipython3",
   "version": "3.12.7"
  }
 },
 "nbformat": 4,
 "nbformat_minor": 5
}
